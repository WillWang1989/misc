{
  "nbformat": 4,
  "nbformat_minor": 0,
  "metadata": {
    "colab": {
      "provenance": [],
      "authorship_tag": "ABX9TyNnofO4Wzm2LHZH6kj+GT1C",
      "include_colab_link": true
    },
    "kernelspec": {
      "name": "python3",
      "display_name": "Python 3"
    },
    "language_info": {
      "name": "python"
    }
  },
  "cells": [
    {
      "cell_type": "markdown",
      "metadata": {
        "id": "view-in-github",
        "colab_type": "text"
      },
      "source": [
        "<a href=\"https://colab.research.google.com/github/WillWang1989/misc/blob/master/code%20snippets/yfinance.ipynb\" target=\"_parent\"><img src=\"https://colab.research.google.com/assets/colab-badge.svg\" alt=\"Open In Colab\"/></a>"
      ]
    },
    {
      "cell_type": "code",
      "source": [
        "pip install yfinance[nospam]"
      ],
      "metadata": {
        "colab": {
          "base_uri": "https://localhost:8080/"
        },
        "id": "TIDgQXFcCHi4",
        "outputId": "66875ccc-a0de-4a7b-93d6-37b2a7380d3f"
      },
      "execution_count": 2,
      "outputs": [
        {
          "output_type": "stream",
          "name": "stdout",
          "text": [
            "Requirement already satisfied: yfinance[nospam] in /usr/local/lib/python3.11/dist-packages (0.2.57)\n",
            "Requirement already satisfied: pandas>=1.3.0 in /usr/local/lib/python3.11/dist-packages (from yfinance[nospam]) (2.2.2)\n",
            "Requirement already satisfied: numpy>=1.16.5 in /usr/local/lib/python3.11/dist-packages (from yfinance[nospam]) (2.0.2)\n",
            "Requirement already satisfied: requests>=2.31 in /usr/local/lib/python3.11/dist-packages (from yfinance[nospam]) (2.32.3)\n",
            "Requirement already satisfied: multitasking>=0.0.7 in /usr/local/lib/python3.11/dist-packages (from yfinance[nospam]) (0.0.11)\n",
            "Requirement already satisfied: platformdirs>=2.0.0 in /usr/local/lib/python3.11/dist-packages (from yfinance[nospam]) (4.3.7)\n",
            "Requirement already satisfied: pytz>=2022.5 in /usr/local/lib/python3.11/dist-packages (from yfinance[nospam]) (2025.2)\n",
            "Requirement already satisfied: frozendict>=2.3.4 in /usr/local/lib/python3.11/dist-packages (from yfinance[nospam]) (2.4.6)\n",
            "Requirement already satisfied: peewee>=3.16.2 in /usr/local/lib/python3.11/dist-packages (from yfinance[nospam]) (3.18.0)\n",
            "Requirement already satisfied: beautifulsoup4>=4.11.1 in /usr/local/lib/python3.11/dist-packages (from yfinance[nospam]) (4.13.4)\n",
            "Collecting requests_cache>=1.0 (from yfinance[nospam])\n",
            "  Downloading requests_cache-1.2.1-py3-none-any.whl.metadata (9.9 kB)\n",
            "Collecting requests_ratelimiter>=0.3.1 (from yfinance[nospam])\n",
            "  Downloading requests_ratelimiter-0.7.0-py3-none-any.whl.metadata (12 kB)\n",
            "Requirement already satisfied: soupsieve>1.2 in /usr/local/lib/python3.11/dist-packages (from beautifulsoup4>=4.11.1->yfinance[nospam]) (2.7)\n",
            "Requirement already satisfied: typing-extensions>=4.0.0 in /usr/local/lib/python3.11/dist-packages (from beautifulsoup4>=4.11.1->yfinance[nospam]) (4.13.2)\n",
            "Requirement already satisfied: python-dateutil>=2.8.2 in /usr/local/lib/python3.11/dist-packages (from pandas>=1.3.0->yfinance[nospam]) (2.9.0.post0)\n",
            "Requirement already satisfied: tzdata>=2022.7 in /usr/local/lib/python3.11/dist-packages (from pandas>=1.3.0->yfinance[nospam]) (2025.2)\n",
            "Requirement already satisfied: charset-normalizer<4,>=2 in /usr/local/lib/python3.11/dist-packages (from requests>=2.31->yfinance[nospam]) (3.4.1)\n",
            "Requirement already satisfied: idna<4,>=2.5 in /usr/local/lib/python3.11/dist-packages (from requests>=2.31->yfinance[nospam]) (3.10)\n",
            "Requirement already satisfied: urllib3<3,>=1.21.1 in /usr/local/lib/python3.11/dist-packages (from requests>=2.31->yfinance[nospam]) (2.4.0)\n",
            "Requirement already satisfied: certifi>=2017.4.17 in /usr/local/lib/python3.11/dist-packages (from requests>=2.31->yfinance[nospam]) (2025.4.26)\n",
            "Requirement already satisfied: attrs>=21.2 in /usr/local/lib/python3.11/dist-packages (from requests_cache>=1.0->yfinance[nospam]) (25.3.0)\n",
            "Collecting cattrs>=22.2 (from requests_cache>=1.0->yfinance[nospam])\n",
            "  Downloading cattrs-24.1.3-py3-none-any.whl.metadata (8.4 kB)\n",
            "Collecting url-normalize>=1.4 (from requests_cache>=1.0->yfinance[nospam])\n",
            "  Downloading url_normalize-2.2.1-py3-none-any.whl.metadata (5.6 kB)\n",
            "Collecting pyrate-limiter<3.0 (from requests_ratelimiter>=0.3.1->yfinance[nospam])\n",
            "  Downloading pyrate_limiter-2.10.0-py3-none-any.whl.metadata (15 kB)\n",
            "Requirement already satisfied: six>=1.5 in /usr/local/lib/python3.11/dist-packages (from python-dateutil>=2.8.2->pandas>=1.3.0->yfinance[nospam]) (1.17.0)\n",
            "Downloading requests_cache-1.2.1-py3-none-any.whl (61 kB)\n",
            "\u001b[2K   \u001b[90m━━━━━━━━━━━━━━━━━━━━━━━━━━━━━━━━━━━━━━━━\u001b[0m \u001b[32m61.4/61.4 kB\u001b[0m \u001b[31m2.6 MB/s\u001b[0m eta \u001b[36m0:00:00\u001b[0m\n",
            "\u001b[?25hDownloading requests_ratelimiter-0.7.0-py3-none-any.whl (9.3 kB)\n",
            "Downloading cattrs-24.1.3-py3-none-any.whl (66 kB)\n",
            "\u001b[2K   \u001b[90m━━━━━━━━━━━━━━━━━━━━━━━━━━━━━━━━━━━━━━━━\u001b[0m \u001b[32m66.5/66.5 kB\u001b[0m \u001b[31m5.5 MB/s\u001b[0m eta \u001b[36m0:00:00\u001b[0m\n",
            "\u001b[?25hDownloading pyrate_limiter-2.10.0-py3-none-any.whl (16 kB)\n",
            "Downloading url_normalize-2.2.1-py3-none-any.whl (14 kB)\n",
            "Installing collected packages: url-normalize, pyrate-limiter, cattrs, requests_ratelimiter, requests_cache\n",
            "Successfully installed cattrs-24.1.3 pyrate-limiter-2.10.0 requests_cache-1.2.1 requests_ratelimiter-0.7.0 url-normalize-2.2.1\n"
          ]
        }
      ]
    },
    {
      "cell_type": "code",
      "execution_count": 3,
      "metadata": {
        "id": "OwM_JpObFLiN"
      },
      "outputs": [],
      "source": [
        "\n",
        "import yfinance as yf\n",
        "import requests_cache\n",
        "session = requests_cache.CachedSession('yfinance.cache')\n",
        "session.headers['User-agent'] = 'my-program/1.0'\n",
        "ticker = yf.Ticker('MSFT', session=session)"
      ]
    },
    {
      "cell_type": "code",
      "source": [
        "ticker.options"
      ],
      "metadata": {
        "colab": {
          "base_uri": "https://localhost:8080/"
        },
        "id": "UYYuTS16COlh",
        "outputId": "a9daf0cf-814d-4975-897f-fc14afa70e50"
      },
      "execution_count": 5,
      "outputs": [
        {
          "output_type": "execute_result",
          "data": {
            "text/plain": [
              "('2025-05-02',\n",
              " '2025-05-09',\n",
              " '2025-05-16',\n",
              " '2025-05-23',\n",
              " '2025-05-30',\n",
              " '2025-06-06',\n",
              " '2025-06-20',\n",
              " '2025-07-18',\n",
              " '2025-08-15',\n",
              " '2025-09-19',\n",
              " '2025-10-17',\n",
              " '2025-12-19',\n",
              " '2026-01-16',\n",
              " '2026-03-20',\n",
              " '2026-06-18',\n",
              " '2026-12-18',\n",
              " '2027-01-15',\n",
              " '2027-06-17',\n",
              " '2027-12-17')"
            ]
          },
          "metadata": {},
          "execution_count": 5
        }
      ]
    }
  ]
}